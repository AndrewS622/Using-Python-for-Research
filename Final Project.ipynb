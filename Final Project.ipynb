{
 "cells": [
  {
   "cell_type": "markdown",
   "metadata": {},
   "source": [
    "# Final Project\n",
    "## Predicting Physical Activity from Accelerometer Data\n",
    "\n",
    "In the final project for this course, we are given a set of training data (train_time_series.csv) and corresponding labels (train_labels.csv). The data contain timestamps, UTC time, accuracy, and x, y, and z acceleration columns, and the labels consist of one of four classes (standing, walking, stairs down, and stairs up for 1 to 4, respectively) for every tenth observation of the training data. \n",
    "\n",
    "The goal of the project is to classify different physical activities with optimal accuracy. Test data is included in test_time_series.csv but the corresponding labels are unknown. Given that unverified users do not have access to the true test results, final model accuracy can only be assessed on the training data. Code run time will also be recorded. "
   ]
  },
  {
   "cell_type": "code",
   "execution_count": 37,
   "metadata": {},
   "outputs": [
    {
     "data": {
      "text/html": [
       "<div>\n",
       "<style scoped>\n",
       "    .dataframe tbody tr th:only-of-type {\n",
       "        vertical-align: middle;\n",
       "    }\n",
       "\n",
       "    .dataframe tbody tr th {\n",
       "        vertical-align: top;\n",
       "    }\n",
       "\n",
       "    .dataframe thead th {\n",
       "        text-align: right;\n",
       "    }\n",
       "</style>\n",
       "<table border=\"1\" class=\"dataframe\">\n",
       "  <thead>\n",
       "    <tr style=\"text-align: right;\">\n",
       "      <th></th>\n",
       "      <th>Unnamed: 0</th>\n",
       "      <th>timestamp</th>\n",
       "      <th>UTC time</th>\n",
       "      <th>accuracy</th>\n",
       "      <th>x</th>\n",
       "      <th>y</th>\n",
       "      <th>z</th>\n",
       "    </tr>\n",
       "  </thead>\n",
       "  <tbody>\n",
       "    <tr>\n",
       "      <th>0</th>\n",
       "      <td>20586</td>\n",
       "      <td>1565109930787</td>\n",
       "      <td>2019-08-06T16:45:30.787</td>\n",
       "      <td>unknown</td>\n",
       "      <td>-0.006485</td>\n",
       "      <td>-0.934860</td>\n",
       "      <td>-0.069046</td>\n",
       "    </tr>\n",
       "    <tr>\n",
       "      <th>1</th>\n",
       "      <td>20587</td>\n",
       "      <td>1565109930887</td>\n",
       "      <td>2019-08-06T16:45:30.887</td>\n",
       "      <td>unknown</td>\n",
       "      <td>-0.066467</td>\n",
       "      <td>-1.015442</td>\n",
       "      <td>0.089554</td>\n",
       "    </tr>\n",
       "    <tr>\n",
       "      <th>2</th>\n",
       "      <td>20588</td>\n",
       "      <td>1565109930987</td>\n",
       "      <td>2019-08-06T16:45:30.987</td>\n",
       "      <td>unknown</td>\n",
       "      <td>-0.043488</td>\n",
       "      <td>-1.021255</td>\n",
       "      <td>0.178467</td>\n",
       "    </tr>\n",
       "    <tr>\n",
       "      <th>3</th>\n",
       "      <td>20589</td>\n",
       "      <td>1565109931087</td>\n",
       "      <td>2019-08-06T16:45:31.087</td>\n",
       "      <td>unknown</td>\n",
       "      <td>-0.053802</td>\n",
       "      <td>-0.987701</td>\n",
       "      <td>0.068985</td>\n",
       "    </tr>\n",
       "    <tr>\n",
       "      <th>4</th>\n",
       "      <td>20590</td>\n",
       "      <td>1565109931188</td>\n",
       "      <td>2019-08-06T16:45:31.188</td>\n",
       "      <td>unknown</td>\n",
       "      <td>-0.054031</td>\n",
       "      <td>-1.003616</td>\n",
       "      <td>0.126450</td>\n",
       "    </tr>\n",
       "    <tr>\n",
       "      <th>...</th>\n",
       "      <td>...</td>\n",
       "      <td>...</td>\n",
       "      <td>...</td>\n",
       "      <td>...</td>\n",
       "      <td>...</td>\n",
       "      <td>...</td>\n",
       "      <td>...</td>\n",
       "    </tr>\n",
       "    <tr>\n",
       "      <th>3739</th>\n",
       "      <td>24325</td>\n",
       "      <td>1565110305638</td>\n",
       "      <td>2019-08-06T16:51:45.638</td>\n",
       "      <td>unknown</td>\n",
       "      <td>0.024384</td>\n",
       "      <td>-0.710709</td>\n",
       "      <td>0.030304</td>\n",
       "    </tr>\n",
       "    <tr>\n",
       "      <th>3740</th>\n",
       "      <td>24326</td>\n",
       "      <td>1565110305738</td>\n",
       "      <td>2019-08-06T16:51:45.738</td>\n",
       "      <td>unknown</td>\n",
       "      <td>0.487228</td>\n",
       "      <td>-1.099136</td>\n",
       "      <td>-0.015213</td>\n",
       "    </tr>\n",
       "    <tr>\n",
       "      <th>3741</th>\n",
       "      <td>24327</td>\n",
       "      <td>1565110305838</td>\n",
       "      <td>2019-08-06T16:51:45.838</td>\n",
       "      <td>unknown</td>\n",
       "      <td>0.369446</td>\n",
       "      <td>-0.968506</td>\n",
       "      <td>0.036713</td>\n",
       "    </tr>\n",
       "    <tr>\n",
       "      <th>3742</th>\n",
       "      <td>24328</td>\n",
       "      <td>1565110305939</td>\n",
       "      <td>2019-08-06T16:51:45.939</td>\n",
       "      <td>unknown</td>\n",
       "      <td>0.167877</td>\n",
       "      <td>-0.802826</td>\n",
       "      <td>0.049805</td>\n",
       "    </tr>\n",
       "    <tr>\n",
       "      <th>3743</th>\n",
       "      <td>24329</td>\n",
       "      <td>1565110306039</td>\n",
       "      <td>2019-08-06T16:51:46.039</td>\n",
       "      <td>unknown</td>\n",
       "      <td>0.689346</td>\n",
       "      <td>-0.991043</td>\n",
       "      <td>0.034973</td>\n",
       "    </tr>\n",
       "  </tbody>\n",
       "</table>\n",
       "<p>3744 rows × 7 columns</p>\n",
       "</div>"
      ],
      "text/plain": [
       "      Unnamed: 0      timestamp                 UTC time accuracy         x  \\\n",
       "0          20586  1565109930787  2019-08-06T16:45:30.787  unknown -0.006485   \n",
       "1          20587  1565109930887  2019-08-06T16:45:30.887  unknown -0.066467   \n",
       "2          20588  1565109930987  2019-08-06T16:45:30.987  unknown -0.043488   \n",
       "3          20589  1565109931087  2019-08-06T16:45:31.087  unknown -0.053802   \n",
       "4          20590  1565109931188  2019-08-06T16:45:31.188  unknown -0.054031   \n",
       "...          ...            ...                      ...      ...       ...   \n",
       "3739       24325  1565110305638  2019-08-06T16:51:45.638  unknown  0.024384   \n",
       "3740       24326  1565110305738  2019-08-06T16:51:45.738  unknown  0.487228   \n",
       "3741       24327  1565110305838  2019-08-06T16:51:45.838  unknown  0.369446   \n",
       "3742       24328  1565110305939  2019-08-06T16:51:45.939  unknown  0.167877   \n",
       "3743       24329  1565110306039  2019-08-06T16:51:46.039  unknown  0.689346   \n",
       "\n",
       "             y         z  \n",
       "0    -0.934860 -0.069046  \n",
       "1    -1.015442  0.089554  \n",
       "2    -1.021255  0.178467  \n",
       "3    -0.987701  0.068985  \n",
       "4    -1.003616  0.126450  \n",
       "...        ...       ...  \n",
       "3739 -0.710709  0.030304  \n",
       "3740 -1.099136 -0.015213  \n",
       "3741 -0.968506  0.036713  \n",
       "3742 -0.802826  0.049805  \n",
       "3743 -0.991043  0.034973  \n",
       "\n",
       "[3744 rows x 7 columns]"
      ]
     },
     "execution_count": 37,
     "metadata": {},
     "output_type": "execute_result"
    }
   ],
   "source": [
    "import matplotlib.pyplot as plt\n",
    "import numpy as np\n",
    "import pandas as pd\n",
    "from datetime import datetime\n",
    "from sklearn.model_selection import cross_val_score, GridSearchCV\n",
    "from sklearn.linear_model import LogisticRegression\n",
    "from sklearn.ensemble import RandomForestClassifier\n",
    "from sklearn.metrics import accuracy_score, balanced_accuracy_score\n",
    "\n",
    "train_X = pd.read_csv('train_time_series.csv')\n",
    "train_Y = pd.read_csv('train_labels.csv')\n",
    "test_X = pd.read_csv('test_time_series.csv')\n",
    "train_X"
   ]
  },
  {
   "cell_type": "markdown",
   "metadata": {},
   "source": [
    "We will first look at some of the available columns. The accuracy for each sample is listed as 'unknown,' and the first, unnamed column should merely serve as an index, which Pandas already provides us. We can confirm this latter point by checking that the difference between the Pandas-assigned index column and the input index column is constant. Therefore, we can reduce this dataframe to the usable columns."
   ]
  },
  {
   "cell_type": "code",
   "execution_count": 2,
   "metadata": {},
   "outputs": [
    {
     "data": {
      "text/plain": [
       "1.0"
      ]
     },
     "execution_count": 2,
     "metadata": {},
     "output_type": "execute_result"
    }
   ],
   "source": [
    "np.mean(train_X.accuracy == 'unknown')"
   ]
  },
  {
   "cell_type": "code",
   "execution_count": 3,
   "metadata": {},
   "outputs": [
    {
     "data": {
      "text/plain": [
       "1.0"
      ]
     },
     "execution_count": 3,
     "metadata": {},
     "output_type": "execute_result"
    }
   ],
   "source": [
    "np.mean(train_X['Unnamed: 0'] - train_X.index == 20586)"
   ]
  },
  {
   "cell_type": "markdown",
   "metadata": {},
   "source": [
    "Similarly, the UTC time column should not provide any extra information beyond the timestamp column. To confirm this, we convert the UTC time string to a datetime object, and convert it to the number of seconds since 1/1/1970, which is identical to the timestamp entry for each sample after converting to milliseconds. Thus, we can remove this as well."
   ]
  },
  {
   "cell_type": "code",
   "execution_count": 5,
   "metadata": {},
   "outputs": [
    {
     "data": {
      "text/plain": [
       "0"
      ]
     },
     "execution_count": 5,
     "metadata": {},
     "output_type": "execute_result"
    }
   ],
   "source": [
    "dt = [datetime.strptime(t, '%Y-%m-%dT%H:%M:%S.%f') for t in train_X['UTC time']]\n",
    "sec = [((dti - datetime(1970,1,1)).total_seconds()) for dti in dt]\n",
    "sum(sec[i] * 1000 != train_X.timestamp[i] for i in range(len(dt)))"
   ]
  },
  {
   "cell_type": "code",
   "execution_count": 6,
   "metadata": {},
   "outputs": [
    {
     "data": {
      "text/html": [
       "<div>\n",
       "<style scoped>\n",
       "    .dataframe tbody tr th:only-of-type {\n",
       "        vertical-align: middle;\n",
       "    }\n",
       "\n",
       "    .dataframe tbody tr th {\n",
       "        vertical-align: top;\n",
       "    }\n",
       "\n",
       "    .dataframe thead th {\n",
       "        text-align: right;\n",
       "    }\n",
       "</style>\n",
       "<table border=\"1\" class=\"dataframe\">\n",
       "  <thead>\n",
       "    <tr style=\"text-align: right;\">\n",
       "      <th></th>\n",
       "      <th>timestamp</th>\n",
       "      <th>x</th>\n",
       "      <th>y</th>\n",
       "      <th>z</th>\n",
       "    </tr>\n",
       "  </thead>\n",
       "  <tbody>\n",
       "    <tr>\n",
       "      <th>0</th>\n",
       "      <td>1565109930787</td>\n",
       "      <td>-0.006485</td>\n",
       "      <td>-0.934860</td>\n",
       "      <td>-0.069046</td>\n",
       "    </tr>\n",
       "    <tr>\n",
       "      <th>1</th>\n",
       "      <td>1565109930887</td>\n",
       "      <td>-0.066467</td>\n",
       "      <td>-1.015442</td>\n",
       "      <td>0.089554</td>\n",
       "    </tr>\n",
       "    <tr>\n",
       "      <th>2</th>\n",
       "      <td>1565109930987</td>\n",
       "      <td>-0.043488</td>\n",
       "      <td>-1.021255</td>\n",
       "      <td>0.178467</td>\n",
       "    </tr>\n",
       "    <tr>\n",
       "      <th>3</th>\n",
       "      <td>1565109931087</td>\n",
       "      <td>-0.053802</td>\n",
       "      <td>-0.987701</td>\n",
       "      <td>0.068985</td>\n",
       "    </tr>\n",
       "    <tr>\n",
       "      <th>4</th>\n",
       "      <td>1565109931188</td>\n",
       "      <td>-0.054031</td>\n",
       "      <td>-1.003616</td>\n",
       "      <td>0.126450</td>\n",
       "    </tr>\n",
       "    <tr>\n",
       "      <th>...</th>\n",
       "      <td>...</td>\n",
       "      <td>...</td>\n",
       "      <td>...</td>\n",
       "      <td>...</td>\n",
       "    </tr>\n",
       "    <tr>\n",
       "      <th>3739</th>\n",
       "      <td>1565110305638</td>\n",
       "      <td>0.024384</td>\n",
       "      <td>-0.710709</td>\n",
       "      <td>0.030304</td>\n",
       "    </tr>\n",
       "    <tr>\n",
       "      <th>3740</th>\n",
       "      <td>1565110305738</td>\n",
       "      <td>0.487228</td>\n",
       "      <td>-1.099136</td>\n",
       "      <td>-0.015213</td>\n",
       "    </tr>\n",
       "    <tr>\n",
       "      <th>3741</th>\n",
       "      <td>1565110305838</td>\n",
       "      <td>0.369446</td>\n",
       "      <td>-0.968506</td>\n",
       "      <td>0.036713</td>\n",
       "    </tr>\n",
       "    <tr>\n",
       "      <th>3742</th>\n",
       "      <td>1565110305939</td>\n",
       "      <td>0.167877</td>\n",
       "      <td>-0.802826</td>\n",
       "      <td>0.049805</td>\n",
       "    </tr>\n",
       "    <tr>\n",
       "      <th>3743</th>\n",
       "      <td>1565110306039</td>\n",
       "      <td>0.689346</td>\n",
       "      <td>-0.991043</td>\n",
       "      <td>0.034973</td>\n",
       "    </tr>\n",
       "  </tbody>\n",
       "</table>\n",
       "<p>3744 rows × 4 columns</p>\n",
       "</div>"
      ],
      "text/plain": [
       "          timestamp         x         y         z\n",
       "0     1565109930787 -0.006485 -0.934860 -0.069046\n",
       "1     1565109930887 -0.066467 -1.015442  0.089554\n",
       "2     1565109930987 -0.043488 -1.021255  0.178467\n",
       "3     1565109931087 -0.053802 -0.987701  0.068985\n",
       "4     1565109931188 -0.054031 -1.003616  0.126450\n",
       "...             ...       ...       ...       ...\n",
       "3739  1565110305638  0.024384 -0.710709  0.030304\n",
       "3740  1565110305738  0.487228 -1.099136 -0.015213\n",
       "3741  1565110305838  0.369446 -0.968506  0.036713\n",
       "3742  1565110305939  0.167877 -0.802826  0.049805\n",
       "3743  1565110306039  0.689346 -0.991043  0.034973\n",
       "\n",
       "[3744 rows x 4 columns]"
      ]
     },
     "execution_count": 6,
     "metadata": {},
     "output_type": "execute_result"
    }
   ],
   "source": [
    "train_X = train_X.iloc[:, [1, 4, 5, 6]]\n",
    "train_X"
   ]
  },
  {
   "cell_type": "markdown",
   "metadata": {},
   "source": [
    "With our reduced dataframe, we can begin to train our algorithm. We can test a number of different classification algorithms, but will restrict ourselves to those covered in this course, i.e. multi-class logistic regression and a random forest classifier. Support vector classifiers and k-nearest neighbors algorithms, along with neural networks, may also be applicable to this type of classification problem. We will begin by instantiating these objects with default parameters for the time being, as well as define an accuracy function used to quantify our results."
   ]
  },
  {
   "cell_type": "code",
   "execution_count": 7,
   "metadata": {},
   "outputs": [],
   "source": [
    "logistic_regression = LogisticRegression(penalty='l2', multi_class='ovr')\n",
    "forest_classifier = RandomForestClassifier(max_depth=4)"
   ]
  },
  {
   "cell_type": "code",
   "execution_count": 8,
   "metadata": {},
   "outputs": [],
   "source": [
    "def accuracy(estimator, X, y):\n",
    "    estimator.fit(X, y)\n",
    "    predictions = estimator.predict(X)\n",
    "    return accuracy_score(y, predictions)"
   ]
  },
  {
   "cell_type": "markdown",
   "metadata": {},
   "source": [
    "However, prior to testing our algorithms, we must address the fact that only one label sample is present for every ten acceleration samples. For an initial naive method, we can extract only the X samples corresponding to the timestamps in the Y data, but it is possible that we can better estimate the label using the information we are currently ignoring. "
   ]
  },
  {
   "cell_type": "code",
   "execution_count": 9,
   "metadata": {},
   "outputs": [
    {
     "data": {
      "text/html": [
       "<div>\n",
       "<style scoped>\n",
       "    .dataframe tbody tr th:only-of-type {\n",
       "        vertical-align: middle;\n",
       "    }\n",
       "\n",
       "    .dataframe tbody tr th {\n",
       "        vertical-align: top;\n",
       "    }\n",
       "\n",
       "    .dataframe thead th {\n",
       "        text-align: right;\n",
       "    }\n",
       "</style>\n",
       "<table border=\"1\" class=\"dataframe\">\n",
       "  <thead>\n",
       "    <tr style=\"text-align: right;\">\n",
       "      <th></th>\n",
       "      <th>Unnamed: 0</th>\n",
       "      <th>timestamp</th>\n",
       "      <th>UTC time</th>\n",
       "      <th>label</th>\n",
       "    </tr>\n",
       "  </thead>\n",
       "  <tbody>\n",
       "    <tr>\n",
       "      <th>0</th>\n",
       "      <td>20589</td>\n",
       "      <td>1565109931087</td>\n",
       "      <td>2019-08-06T16:45:31.087</td>\n",
       "      <td>1</td>\n",
       "    </tr>\n",
       "    <tr>\n",
       "      <th>1</th>\n",
       "      <td>20599</td>\n",
       "      <td>1565109932090</td>\n",
       "      <td>2019-08-06T16:45:32.090</td>\n",
       "      <td>1</td>\n",
       "    </tr>\n",
       "    <tr>\n",
       "      <th>2</th>\n",
       "      <td>20609</td>\n",
       "      <td>1565109933092</td>\n",
       "      <td>2019-08-06T16:45:33.092</td>\n",
       "      <td>1</td>\n",
       "    </tr>\n",
       "    <tr>\n",
       "      <th>3</th>\n",
       "      <td>20619</td>\n",
       "      <td>1565109934094</td>\n",
       "      <td>2019-08-06T16:45:34.094</td>\n",
       "      <td>1</td>\n",
       "    </tr>\n",
       "    <tr>\n",
       "      <th>4</th>\n",
       "      <td>20629</td>\n",
       "      <td>1565109935097</td>\n",
       "      <td>2019-08-06T16:45:35.097</td>\n",
       "      <td>1</td>\n",
       "    </tr>\n",
       "    <tr>\n",
       "      <th>...</th>\n",
       "      <td>...</td>\n",
       "      <td>...</td>\n",
       "      <td>...</td>\n",
       "      <td>...</td>\n",
       "    </tr>\n",
       "    <tr>\n",
       "      <th>370</th>\n",
       "      <td>24289</td>\n",
       "      <td>1565110302030</td>\n",
       "      <td>2019-08-06T16:51:42.030</td>\n",
       "      <td>4</td>\n",
       "    </tr>\n",
       "    <tr>\n",
       "      <th>371</th>\n",
       "      <td>24299</td>\n",
       "      <td>1565110303032</td>\n",
       "      <td>2019-08-06T16:51:43.032</td>\n",
       "      <td>4</td>\n",
       "    </tr>\n",
       "    <tr>\n",
       "      <th>372</th>\n",
       "      <td>24309</td>\n",
       "      <td>1565110304034</td>\n",
       "      <td>2019-08-06T16:51:44.034</td>\n",
       "      <td>4</td>\n",
       "    </tr>\n",
       "    <tr>\n",
       "      <th>373</th>\n",
       "      <td>24319</td>\n",
       "      <td>1565110305037</td>\n",
       "      <td>2019-08-06T16:51:45.037</td>\n",
       "      <td>4</td>\n",
       "    </tr>\n",
       "    <tr>\n",
       "      <th>374</th>\n",
       "      <td>24329</td>\n",
       "      <td>1565110306039</td>\n",
       "      <td>2019-08-06T16:51:46.039</td>\n",
       "      <td>4</td>\n",
       "    </tr>\n",
       "  </tbody>\n",
       "</table>\n",
       "<p>375 rows × 4 columns</p>\n",
       "</div>"
      ],
      "text/plain": [
       "     Unnamed: 0      timestamp                 UTC time  label\n",
       "0         20589  1565109931087  2019-08-06T16:45:31.087      1\n",
       "1         20599  1565109932090  2019-08-06T16:45:32.090      1\n",
       "2         20609  1565109933092  2019-08-06T16:45:33.092      1\n",
       "3         20619  1565109934094  2019-08-06T16:45:34.094      1\n",
       "4         20629  1565109935097  2019-08-06T16:45:35.097      1\n",
       "..          ...            ...                      ...    ...\n",
       "370       24289  1565110302030  2019-08-06T16:51:42.030      4\n",
       "371       24299  1565110303032  2019-08-06T16:51:43.032      4\n",
       "372       24309  1565110304034  2019-08-06T16:51:44.034      4\n",
       "373       24319  1565110305037  2019-08-06T16:51:45.037      4\n",
       "374       24329  1565110306039  2019-08-06T16:51:46.039      4\n",
       "\n",
       "[375 rows x 4 columns]"
      ]
     },
     "execution_count": 9,
     "metadata": {},
     "output_type": "execute_result"
    }
   ],
   "source": [
    "train_Y"
   ]
  },
  {
   "cell_type": "code",
   "execution_count": 10,
   "metadata": {},
   "outputs": [
    {
     "data": {
      "text/html": [
       "<div>\n",
       "<style scoped>\n",
       "    .dataframe tbody tr th:only-of-type {\n",
       "        vertical-align: middle;\n",
       "    }\n",
       "\n",
       "    .dataframe tbody tr th {\n",
       "        vertical-align: top;\n",
       "    }\n",
       "\n",
       "    .dataframe thead th {\n",
       "        text-align: right;\n",
       "    }\n",
       "</style>\n",
       "<table border=\"1\" class=\"dataframe\">\n",
       "  <thead>\n",
       "    <tr style=\"text-align: right;\">\n",
       "      <th></th>\n",
       "      <th>timestamp</th>\n",
       "      <th>label</th>\n",
       "    </tr>\n",
       "  </thead>\n",
       "  <tbody>\n",
       "    <tr>\n",
       "      <th>0</th>\n",
       "      <td>1565109931087</td>\n",
       "      <td>1</td>\n",
       "    </tr>\n",
       "    <tr>\n",
       "      <th>1</th>\n",
       "      <td>1565109932090</td>\n",
       "      <td>1</td>\n",
       "    </tr>\n",
       "    <tr>\n",
       "      <th>2</th>\n",
       "      <td>1565109933092</td>\n",
       "      <td>1</td>\n",
       "    </tr>\n",
       "    <tr>\n",
       "      <th>3</th>\n",
       "      <td>1565109934094</td>\n",
       "      <td>1</td>\n",
       "    </tr>\n",
       "    <tr>\n",
       "      <th>4</th>\n",
       "      <td>1565109935097</td>\n",
       "      <td>1</td>\n",
       "    </tr>\n",
       "    <tr>\n",
       "      <th>...</th>\n",
       "      <td>...</td>\n",
       "      <td>...</td>\n",
       "    </tr>\n",
       "    <tr>\n",
       "      <th>370</th>\n",
       "      <td>1565110302030</td>\n",
       "      <td>4</td>\n",
       "    </tr>\n",
       "    <tr>\n",
       "      <th>371</th>\n",
       "      <td>1565110303032</td>\n",
       "      <td>4</td>\n",
       "    </tr>\n",
       "    <tr>\n",
       "      <th>372</th>\n",
       "      <td>1565110304034</td>\n",
       "      <td>4</td>\n",
       "    </tr>\n",
       "    <tr>\n",
       "      <th>373</th>\n",
       "      <td>1565110305037</td>\n",
       "      <td>4</td>\n",
       "    </tr>\n",
       "    <tr>\n",
       "      <th>374</th>\n",
       "      <td>1565110306039</td>\n",
       "      <td>4</td>\n",
       "    </tr>\n",
       "  </tbody>\n",
       "</table>\n",
       "<p>375 rows × 2 columns</p>\n",
       "</div>"
      ],
      "text/plain": [
       "         timestamp  label\n",
       "0    1565109931087      1\n",
       "1    1565109932090      1\n",
       "2    1565109933092      1\n",
       "3    1565109934094      1\n",
       "4    1565109935097      1\n",
       "..             ...    ...\n",
       "370  1565110302030      4\n",
       "371  1565110303032      4\n",
       "372  1565110304034      4\n",
       "373  1565110305037      4\n",
       "374  1565110306039      4\n",
       "\n",
       "[375 rows x 2 columns]"
      ]
     },
     "execution_count": 10,
     "metadata": {},
     "output_type": "execute_result"
    }
   ],
   "source": [
    "train_Y = train_Y.loc[:, ['timestamp', 'label']]\n",
    "train_Y"
   ]
  },
  {
   "cell_type": "code",
   "execution_count": 11,
   "metadata": {},
   "outputs": [
    {
     "name": "stdout",
     "output_type": "stream",
     "text": [
      "True\n"
     ]
    },
    {
     "data": {
      "text/html": [
       "<div>\n",
       "<style scoped>\n",
       "    .dataframe tbody tr th:only-of-type {\n",
       "        vertical-align: middle;\n",
       "    }\n",
       "\n",
       "    .dataframe tbody tr th {\n",
       "        vertical-align: top;\n",
       "    }\n",
       "\n",
       "    .dataframe thead th {\n",
       "        text-align: right;\n",
       "    }\n",
       "</style>\n",
       "<table border=\"1\" class=\"dataframe\">\n",
       "  <thead>\n",
       "    <tr style=\"text-align: right;\">\n",
       "      <th></th>\n",
       "      <th>timestamp</th>\n",
       "      <th>x</th>\n",
       "      <th>y</th>\n",
       "      <th>z</th>\n",
       "    </tr>\n",
       "  </thead>\n",
       "  <tbody>\n",
       "    <tr>\n",
       "      <th>3</th>\n",
       "      <td>1565109931087</td>\n",
       "      <td>-0.053802</td>\n",
       "      <td>-0.987701</td>\n",
       "      <td>0.068985</td>\n",
       "    </tr>\n",
       "    <tr>\n",
       "      <th>13</th>\n",
       "      <td>1565109932090</td>\n",
       "      <td>0.013718</td>\n",
       "      <td>-0.852371</td>\n",
       "      <td>-0.000870</td>\n",
       "    </tr>\n",
       "    <tr>\n",
       "      <th>23</th>\n",
       "      <td>1565109933092</td>\n",
       "      <td>0.145584</td>\n",
       "      <td>-1.007843</td>\n",
       "      <td>-0.036819</td>\n",
       "    </tr>\n",
       "    <tr>\n",
       "      <th>33</th>\n",
       "      <td>1565109934094</td>\n",
       "      <td>-0.099380</td>\n",
       "      <td>-1.209686</td>\n",
       "      <td>0.304489</td>\n",
       "    </tr>\n",
       "    <tr>\n",
       "      <th>43</th>\n",
       "      <td>1565109935097</td>\n",
       "      <td>0.082794</td>\n",
       "      <td>-1.001434</td>\n",
       "      <td>-0.025375</td>\n",
       "    </tr>\n",
       "    <tr>\n",
       "      <th>...</th>\n",
       "      <td>...</td>\n",
       "      <td>...</td>\n",
       "      <td>...</td>\n",
       "      <td>...</td>\n",
       "    </tr>\n",
       "    <tr>\n",
       "      <th>3703</th>\n",
       "      <td>1565110302030</td>\n",
       "      <td>-0.641953</td>\n",
       "      <td>-1.469177</td>\n",
       "      <td>0.301041</td>\n",
       "    </tr>\n",
       "    <tr>\n",
       "      <th>3713</th>\n",
       "      <td>1565110303032</td>\n",
       "      <td>-0.171616</td>\n",
       "      <td>-0.366074</td>\n",
       "      <td>-0.059082</td>\n",
       "    </tr>\n",
       "    <tr>\n",
       "      <th>3723</th>\n",
       "      <td>1565110304034</td>\n",
       "      <td>0.401810</td>\n",
       "      <td>-1.077698</td>\n",
       "      <td>0.258911</td>\n",
       "    </tr>\n",
       "    <tr>\n",
       "      <th>3733</th>\n",
       "      <td>1565110305037</td>\n",
       "      <td>0.330338</td>\n",
       "      <td>-1.470062</td>\n",
       "      <td>0.303894</td>\n",
       "    </tr>\n",
       "    <tr>\n",
       "      <th>3743</th>\n",
       "      <td>1565110306039</td>\n",
       "      <td>0.689346</td>\n",
       "      <td>-0.991043</td>\n",
       "      <td>0.034973</td>\n",
       "    </tr>\n",
       "  </tbody>\n",
       "</table>\n",
       "<p>375 rows × 4 columns</p>\n",
       "</div>"
      ],
      "text/plain": [
       "          timestamp         x         y         z\n",
       "3     1565109931087 -0.053802 -0.987701  0.068985\n",
       "13    1565109932090  0.013718 -0.852371 -0.000870\n",
       "23    1565109933092  0.145584 -1.007843 -0.036819\n",
       "33    1565109934094 -0.099380 -1.209686  0.304489\n",
       "43    1565109935097  0.082794 -1.001434 -0.025375\n",
       "...             ...       ...       ...       ...\n",
       "3703  1565110302030 -0.641953 -1.469177  0.301041\n",
       "3713  1565110303032 -0.171616 -0.366074 -0.059082\n",
       "3723  1565110304034  0.401810 -1.077698  0.258911\n",
       "3733  1565110305037  0.330338 -1.470062  0.303894\n",
       "3743  1565110306039  0.689346 -0.991043  0.034973\n",
       "\n",
       "[375 rows x 4 columns]"
      ]
     },
     "execution_count": 11,
     "metadata": {},
     "output_type": "execute_result"
    }
   ],
   "source": [
    "train_X_subset = train_X.iloc[[train_X.timestamp[i] in train_Y.timestamp.values for i in range(len(train_X.timestamp))], :]\n",
    "print(all(train_X_subset.timestamp.values==train_Y.timestamp.values))\n",
    "train_X_subset"
   ]
  },
  {
   "cell_type": "markdown",
   "metadata": {},
   "source": [
    "Another modification necessary is to extract only the values of the relevant columns. We will do this using the iloc subsetting method and the .values attribute for both X and Y."
   ]
  },
  {
   "cell_type": "code",
   "execution_count": 12,
   "metadata": {},
   "outputs": [],
   "source": [
    "X = train_X_subset.iloc[:, 1:].values\n",
    "Y = train_Y.label.values"
   ]
  },
  {
   "cell_type": "markdown",
   "metadata": {},
   "source": [
    "We can now train the classifiers we instantiated earlier on this X and Y data. We quantify our results using the cross_val_score method from sklearn.model_builder using 10-fold cross-validation. "
   ]
  },
  {
   "cell_type": "code",
   "execution_count": 13,
   "metadata": {},
   "outputs": [
    {
     "name": "stdout",
     "output_type": "stream",
     "text": [
      "Logistic Regression Average Score: 0.5736130867709817\n",
      "Random Forest Average Score: 0.9094594594594596\n"
     ]
    },
    {
     "data": {
      "image/png": "[encoded data removed]",
      "text/plain": [
       "<Figure size 432x288 with 1 Axes>"
      ]
     },
     "metadata": {
      "needs_background": "light"
     },
     "output_type": "display_data"
    }
   ],
   "source": [
    "logistic_scores = cross_val_score(logistic_regression, X, Y, cv=10, scoring=accuracy)\n",
    "rf_scores = cross_val_score(forest_classifier, X, Y, cv=10, scoring=accuracy)\n",
    "print(\"Logistic Regression Average Score:\", np.mean(logistic_scores))\n",
    "print(\"Random Forest Average Score:\", np.mean(rf_scores))\n",
    "\n",
    "# Plot Results\n",
    "plt.axes().set_aspect('equal', 'box')\n",
    "plt.scatter(logistic_scores, rf_scores)\n",
    "plt.plot((0, 1), (0, 1), 'k-')\n",
    "\n",
    "plt.xlim(0, 1)\n",
    "plt.ylim(0, 1)\n",
    "plt.xlabel(\"Logistic Regression Score\")\n",
    "plt.ylabel(\"Forest Classifier Score\")\n",
    "\n",
    "plt.show()"
   ]
  },
  {
   "cell_type": "markdown",
   "metadata": {},
   "source": [
    "These results show that the random forest classifier performs better than the logistic regression classifier. We can now vary some parameters in each classifier to see if we can improve the scores."
   ]
  },
  {
   "cell_type": "code",
   "execution_count": 14,
   "metadata": {},
   "outputs": [],
   "source": [
    "logistic_regression = LogisticRegression(penalty='none', multi_class='ovr', max_iter = 10000, tol=0.000001)\n",
    "forest_classifier = RandomForestClassifier(max_depth=7)"
   ]
  },
  {
   "cell_type": "code",
   "execution_count": 15,
   "metadata": {},
   "outputs": [
    {
     "name": "stdout",
     "output_type": "stream",
     "text": [
      "Logistic Regression Average Score: 0.5788051209103842\n",
      "Random Forest Average Score: 1.0\n"
     ]
    }
   ],
   "source": [
    "logistic_scores = cross_val_score(logistic_regression, X, Y, cv=10, scoring=accuracy)\n",
    "rf_scores = cross_val_score(forest_classifier, X, Y, cv=10, scoring=accuracy)\n",
    "print(\"Logistic Regression Average Score:\", np.mean(logistic_scores))\n",
    "print(\"Random Forest Average Score:\", np.mean(rf_scores))"
   ]
  },
  {
   "cell_type": "markdown",
   "metadata": {},
   "source": [
    "Clearly, even without regularization and with much higher maximal iteration and smaller tolerance, the random forest classifier still outperforms the logistic regression one-vs-all classifier. It is possible that the RF classifier is overfitting the data, but given our use of cross-validation, this is unlikely. We can perform a more systematic depth search for the random forest classifier as follows:"
   ]
  },
  {
   "cell_type": "code",
   "execution_count": 16,
   "metadata": {},
   "outputs": [
    {
     "data": {
      "text/plain": [
       "Text(0, 0.5, 'Mean Cross-Validation Score for 3 Validation Sets')"
      ]
     },
     "execution_count": 16,
     "metadata": {},
     "output_type": "execute_result"
    },
    {
     "data": {
      "image/png": "[encoded data removed]",
      "text/plain": [
       "<Figure size 432x288 with 1 Axes>"
      ]
     },
     "metadata": {
      "needs_background": "light"
     },
     "output_type": "display_data"
    }
   ],
   "source": [
    "max_depths = np.linspace(1, 30, 30, endpoint=True)\n",
    "score = []\n",
    "for max_depth in max_depths:\n",
    "    forest_classifier = RandomForestClassifier(max_depth=max_depth)\n",
    "    rf_scores = cross_val_score(forest_classifier, X, Y, cv=10, scoring=accuracy)\n",
    "    score.append(np.mean(rf_scores))\n",
    "plt.plot(max_depths, score)\n",
    "plt.xlabel('Max Depth Parameter')\n",
    "plt.ylabel('Mean Cross-Validation Score for 3 Validation Sets')"
   ]
  },
  {
   "cell_type": "markdown",
   "metadata": {},
   "source": [
    "We can see than any value of max_depth greater than ~7 appears to give us perfect cross-validation accuracy. While we appear to be able to reliably predict activity with a random forest classifier, we are still throwing away 90% of the data through our subsetting of the train_X dataset. It may be possible to use neighboring points with a sliding-window approach to estimate labels based not only on the immediate x, y, and z acceleration, but also nearby points. For example, we can average the five nearest points (i.e. 2 before and 2 after each data point with a matching timestamp in Y) as follows."
   ]
  },
  {
   "cell_type": "code",
   "execution_count": 17,
   "metadata": {},
   "outputs": [
    {
     "data": {
      "text/plain": [
       "array([[-0.04573364, -0.99911804,  0.12687073],\n",
       "       [-0.03197632, -0.99451599,  0.06184387],\n",
       "       [ 0.12408447, -1.0053833 , -0.02505188],\n",
       "       ...,\n",
       "       [ 0.10877991, -0.95152588,  0.18502808],\n",
       "       [ 0.40496216, -1.11669922,  0.06250916],\n",
       "       [ 0.40888977, -0.92079163,  0.04049683]])"
      ]
     },
     "execution_count": 17,
     "metadata": {},
     "output_type": "execute_result"
    }
   ],
   "source": [
    "X_avg = []\n",
    "for i in train_X_subset.index:\n",
    "    X_avg.append(np.mean(train_X.iloc[i-2:i+3, 1:], axis = 0))\n",
    "X_avg = np.array(X_avg)\n",
    "X_avg"
   ]
  },
  {
   "cell_type": "code",
   "execution_count": 20,
   "metadata": {},
   "outputs": [],
   "source": [
    "logistic_regression = LogisticRegression(penalty='none', multi_class='ovr', max_iter = 10000, tol=0.000001)\n",
    "forest_classifier = RandomForestClassifier(max_depth=5)"
   ]
  },
  {
   "cell_type": "code",
   "execution_count": 21,
   "metadata": {},
   "outputs": [
    {
     "name": "stdout",
     "output_type": "stream",
     "text": [
      "Logistic Regression Average Score: 0.5946657183499289\n",
      "Random Forest Average Score: 0.9893314366998578\n"
     ]
    }
   ],
   "source": [
    "logistic_scores = cross_val_score(logistic_regression, X_avg, Y, cv=10, scoring=accuracy)\n",
    "rf_scores = cross_val_score(forest_classifier, X_avg, Y, cv=10, scoring=accuracy)\n",
    "print(\"Logistic Regression Average Score:\", np.mean(logistic_scores))\n",
    "print(\"Random Forest Average Score:\", np.mean(rf_scores))"
   ]
  },
  {
   "cell_type": "markdown",
   "metadata": {},
   "source": [
    "By using the neighboring two nearest points to each recorded timepoint, we can see that the logistic regression cross_validation score increases around 2%. Changing the multiclass method from one-vs-all to multinomial does not appear to have a significant improvement. "
   ]
  },
  {
   "cell_type": "code",
   "execution_count": 25,
   "metadata": {},
   "outputs": [
    {
     "name": "stdout",
     "output_type": "stream",
     "text": [
      "Logistic Regression Average Score: 0.5972972972972973\n",
      "Random Forest Average Score: 0.9785917496443812\n"
     ]
    }
   ],
   "source": [
    "logistic_regression = LogisticRegression(penalty='none', multi_class='multinomial', max_iter = 10000, tol=0.000001)\n",
    "forest_classifier = RandomForestClassifier(max_depth=5)\n",
    "logistic_scores = cross_val_score(logistic_regression, X_avg, Y, cv=10, scoring=accuracy)\n",
    "rf_scores = cross_val_score(forest_classifier, X_avg, Y, cv=10, scoring=accuracy)\n",
    "print(\"Logistic Regression Average Score:\", np.mean(logistic_scores))\n",
    "print(\"Random Forest Average Score:\", np.mean(rf_scores))"
   ]
  },
  {
   "cell_type": "markdown",
   "metadata": {},
   "source": [
    "Perhaps we can do better with a systematic search. Let's vary this weighting window from 0 to 5 in either direction, removing the last sample and the first if the boundary goes beyond the endpoints of the array."
   ]
  },
  {
   "cell_type": "code",
   "execution_count": 27,
   "metadata": {},
   "outputs": [
    {
     "data": {
      "text/plain": [
       "Text(0, 0.5, 'Mean cross-validation score')"
      ]
     },
     "execution_count": 27,
     "metadata": {},
     "output_type": "execute_result"
    },
    {
     "data": {
      "image/png": "[encoded data removed]",
      "text/plain": [
       "<Figure size 432x288 with 1 Axes>"
      ]
     },
     "metadata": {
      "needs_background": "light"
     },
     "output_type": "display_data"
    }
   ],
   "source": [
    "logistic_regression = LogisticRegression(penalty='none', multi_class='ovr', max_iter = 10000, tol=0.000001)\n",
    "forest_classifier = RandomForestClassifier(max_depth=7)\n",
    "\n",
    "scores_lr = []\n",
    "scores_rf = []\n",
    "for depth in range(6):\n",
    "    X_avg = []\n",
    "    if depth > 3:\n",
    "        for i in train_X_subset.index[1:-1]:\n",
    "            X_avg.append(np.mean(train_X.iloc[i-depth:i+depth+1, 1:], axis = 0))\n",
    "        Y_subset = Y[1:-1]\n",
    "    else:\n",
    "        for i in train_X_subset.index[:-1]:\n",
    "            X_avg.append(np.mean(train_X.iloc[i-depth:i+depth+1, 1:], axis = 0))\n",
    "        Y_subset = Y[:-1]\n",
    "    X_avg = np.array(X_avg)\n",
    "    \n",
    "    logistic_scores = cross_val_score(logistic_regression, X_avg, Y_subset, cv=10, scoring=accuracy)\n",
    "    rf_scores = cross_val_score(forest_classifier, X_avg, Y_subset, cv=10, scoring=accuracy)\n",
    "    \n",
    "    scores_lr.append(np.mean(logistic_scores))\n",
    "    scores_rf.append(np.mean(rf_scores))\n",
    "\n",
    "plt.plot(range(6), scores_lr, label=\"logistic regression\")\n",
    "plt.plot(range(6), scores_rf, label=\"random forest\")\n",
    "plt.legend()\n",
    "plt.xlabel('Number of neighboring points used in average')\n",
    "plt.ylabel('Mean cross-validation score')"
   ]
  },
  {
   "cell_type": "markdown",
   "metadata": {},
   "source": [
    "With this method, we see that the RF classifier appears to be unaffected by our modification of the data, while the logistic regression classifier increases to an accuracy around 0.7 and levels off. Further changes to the methodology could include the use of weighted averages rather than simple averages. Let's next explore the use of an exponentially weighted average, wherein we initialize the EWA at 0 and update it at each sample of x as $EWA := \\beta * EWA + (1-\\beta) * X_i$."
   ]
  },
  {
   "cell_type": "code",
   "execution_count": 28,
   "metadata": {},
   "outputs": [
    {
     "data": {
      "text/plain": [
       "array([[-6.48498535e-04, -9.34860229e-02, -6.90460205e-03],\n",
       "       [-7.23037720e-03, -1.85681610e-01,  2.74124146e-03],\n",
       "       [-1.08560944e-02, -2.69238998e-01,  2.03137970e-02],\n",
       "       ...,\n",
       "       [ 3.41590478e-01, -1.02719481e+00,  1.06514489e-01],\n",
       "       [ 3.24219150e-01, -1.00475792e+00,  1.00843508e-01],\n",
       "       [ 3.60731866e-01, -1.00338644e+00,  9.42564721e-02]])"
      ]
     },
     "execution_count": 28,
     "metadata": {},
     "output_type": "execute_result"
    }
   ],
   "source": [
    "X_ewa = []\n",
    "ewa = np.array([0, 0, 0])\n",
    "beta = 0.9\n",
    "for i in range(len(train_X)):\n",
    "    ewa = beta * ewa + (1-beta) * train_X.iloc[i, 1:]\n",
    "    X_ewa.append(ewa)\n",
    "X_ewa = np.array(X_ewa)\n",
    "X_ewa"
   ]
  },
  {
   "cell_type": "code",
   "execution_count": 29,
   "metadata": {},
   "outputs": [
    {
     "data": {
      "text/plain": [
       "(375, 3)"
      ]
     },
     "execution_count": 29,
     "metadata": {},
     "output_type": "execute_result"
    }
   ],
   "source": [
    "X_ewa_subset = X_ewa[[train_X.timestamp[i] in train_Y.timestamp.values for i in range(len(train_X.timestamp))], :]\n",
    "X_ewa_subset.shape"
   ]
  },
  {
   "cell_type": "markdown",
   "metadata": {},
   "source": [
    "After subsetting this average to the matching data points, we can test it on our algorithms. "
   ]
  },
  {
   "cell_type": "code",
   "execution_count": 32,
   "metadata": {},
   "outputs": [
    {
     "name": "stdout",
     "output_type": "stream",
     "text": [
      "Logistic Regression Average Score: 0.7467994310099574\n",
      "Random Forest Average Score: 1.0\n"
     ]
    }
   ],
   "source": [
    "logistic_regression = LogisticRegression(penalty='none', multi_class='ovr', max_iter = 10000, tol=0.000001)\n",
    "forest_classifier = RandomForestClassifier(max_depth=7)\n",
    "\n",
    "logistic_scores = cross_val_score(logistic_regression, X_ewa_subset, Y, cv=10, scoring=accuracy)\n",
    "rf_scores = cross_val_score(forest_classifier, X_ewa_subset, Y, cv=10, scoring=accuracy)\n",
    "print(\"Logistic Regression Average Score:\", np.mean(logistic_scores))\n",
    "print(\"Random Forest Average Score:\", np.mean(rf_scores))"
   ]
  },
  {
   "cell_type": "markdown",
   "metadata": {},
   "source": [
    "This method appears to further improve our cross-validation accuracy on the logistic model. Given that the random forest is consistently performing much better than the logistic regression model, let's continue only with the random forest and explore some hyperparameter dependencies, such as the min_samples_leaf and min_samples_split parameters."
   ]
  },
  {
   "cell_type": "code",
   "execution_count": 75,
   "metadata": {},
   "outputs": [
    {
     "name": "stdout",
     "output_type": "stream",
     "text": [
      "Random Forest Average Score: 0.9275960170697013\n"
     ]
    }
   ],
   "source": [
    "forest_classifier = RandomForestClassifier(max_depth=7, min_samples_leaf = 2, min_samples_split=3)\n",
    "rf_scores = cross_val_score(forest_classifier, X_ewa_subset, Y, cv=10, scoring=accuracy)\n",
    "print(\"Random Forest Average Score:\", rf_scores.mean())"
   ]
  },
  {
   "cell_type": "code",
   "execution_count": 76,
   "metadata": {},
   "outputs": [
    {
     "name": "stdout",
     "output_type": "stream",
     "text": [
      "Random Forest Average Score: 0.909317211948791\n"
     ]
    }
   ],
   "source": [
    "forest_classifier = RandomForestClassifier(max_depth=7, min_samples_leaf = 2, min_samples_split=3)\n",
    "rf_scores = cross_val_score(forest_classifier, X, Y, cv=10, scoring=accuracy)\n",
    "print(\"Random Forest Average Score:\", rf_scores.mean())"
   ]
  },
  {
   "cell_type": "code",
   "execution_count": 77,
   "metadata": {},
   "outputs": [
    {
     "name": "stdout",
     "output_type": "stream",
     "text": [
      "Random Forest Average Score: 0.9251066856330015\n"
     ]
    }
   ],
   "source": [
    "forest_classifier = RandomForestClassifier(max_depth=11, min_samples_leaf = 2, min_samples_split=3)\n",
    "rf_scores = cross_val_score(forest_classifier, X_ewa_subset, Y, cv=10, scoring=accuracy)\n",
    "print(\"Random Forest Average Score:\", rf_scores.mean())"
   ]
  },
  {
   "cell_type": "code",
   "execution_count": 78,
   "metadata": {},
   "outputs": [
    {
     "name": "stdout",
     "output_type": "stream",
     "text": [
      "Random Forest Average Score: 0.9090327169274538\n"
     ]
    }
   ],
   "source": [
    "forest_classifier = RandomForestClassifier(max_depth=11, min_samples_leaf = 2, min_samples_split=3)\n",
    "rf_scores = cross_val_score(forest_classifier, X, Y, cv=10, scoring=accuracy)\n",
    "print(\"Random Forest Average Score:\", rf_scores.mean())"
   ]
  },
  {
   "cell_type": "markdown",
   "metadata": {},
   "source": [
    "From the above, we see that above some threshold, there does not seem to be a substantial improvement from increasing the max_depth. However, it appears that preventing the tree from making more splits by placing more stringent requirements on the splitting parameters decreases the accuracy. Therefore, it is possible that we may be slightly overfitting the data, since this could indicate that there is a single leaf for each data point, despite our use of cross-validation. If we look back at our experimental data, we see the following distribution of classes:"
   ]
  },
  {
   "cell_type": "code",
   "execution_count": 62,
   "metadata": {},
   "outputs": [
    {
     "name": "stdout",
     "output_type": "stream",
     "text": [
      "27\n",
      "213\n",
      "88\n",
      "47\n"
     ]
    }
   ],
   "source": [
    "print(sum(Y == 1))\n",
    "print(sum(Y == 2))\n",
    "print(sum(Y == 3))\n",
    "print(sum(Y == 4))"
   ]
  },
  {
   "cell_type": "markdown",
   "metadata": {},
   "source": [
    "Clearly, class 2 (walking) is by far the most abundant. With this skewed class distribution, using the balanced_accuracy measure may be more applicable to our data than conventional accuracy. Let's perform a systematic parameter search with this new accuracy method."
   ]
  },
  {
   "cell_type": "code",
   "execution_count": 59,
   "metadata": {},
   "outputs": [],
   "source": [
    "def balanced_accuracy(estimator, X, y):\n",
    "    estimator.fit(X, y)\n",
    "    predictions = estimator.predict(X)\n",
    "    return balanced_accuracy_score(y, predictions)"
   ]
  },
  {
   "cell_type": "code",
   "execution_count": 79,
   "metadata": {},
   "outputs": [
    {
     "data": {
      "text/plain": [
       "GridSearchCV(cv=10, estimator=RandomForestClassifier(),\n",
       "             param_grid={'max_depth': range(1, 15),\n",
       "                         'min_samples_leaf': range(1, 6),\n",
       "                         'min_samples_split': range(2, 7)},\n",
       "             scoring=<function balanced_accuracy at 0x0000023D7DA38730>)"
      ]
     },
     "execution_count": 79,
     "metadata": {},
     "output_type": "execute_result"
    }
   ],
   "source": [
    "params = {\n",
    "    'max_depth': range(1, 15),\n",
    "    'min_samples_leaf': range(1, 6),\n",
    "    'min_samples_split': range(2, 7)\n",
    "}\n",
    "rf = GridSearchCV(RandomForestClassifier(), param_grid=params, scoring=balanced_accuracy, cv=10)\n",
    "rf.fit(X_ewa_subset, Y)"
   ]
  },
  {
   "cell_type": "markdown",
   "metadata": {},
   "source": [
    "Let's now look at our results. Specifically, we'll focus on the mean_test_score parameter of cv_results_. We'll also reshape the (350,) array to a (14, 5, 5) array to make interpretation easier."
   ]
  },
  {
   "cell_type": "code",
   "execution_count": 80,
   "metadata": {},
   "outputs": [
    {
     "data": {
      "text/plain": [
       "dict_keys(['mean_fit_time', 'std_fit_time', 'mean_score_time', 'std_score_time', 'param_max_depth', 'param_min_samples_leaf', 'param_min_samples_split', 'params', 'split0_test_score', 'split1_test_score', 'split2_test_score', 'split3_test_score', 'split4_test_score', 'split5_test_score', 'split6_test_score', 'split7_test_score', 'split8_test_score', 'split9_test_score', 'mean_test_score', 'std_test_score', 'rank_test_score'])"
      ]
     },
     "execution_count": 80,
     "metadata": {},
     "output_type": "execute_result"
    }
   ],
   "source": [
    "rf.cv_results_.keys()"
   ]
  },
  {
   "cell_type": "code",
   "execution_count": 81,
   "metadata": {},
   "outputs": [
    {
     "name": "stdout",
     "output_type": "stream",
     "text": [
      "[[[0.3375     0.32057449 0.33414141 0.33897727 0.3261553 ]\n",
      "  [0.32171086 0.32682449 0.35050505 0.33657197 0.31729167]\n",
      "  [0.34668561 0.34212753 0.33022727 0.33629419 0.32337753]\n",
      "  [0.35025253 0.34189394 0.33747475 0.33247475 0.33247475]\n",
      "  [0.34580808 0.34080808 0.34001894 0.32724116 0.33876894]]\n",
      "\n",
      " [[0.54757846 0.55163149 0.58238005 0.57118957 0.53452291]\n",
      "  [0.53132846 0.50871483 0.52079816 0.57046988 0.47577291]\n",
      "  [0.46822872 0.47431457 0.46299513 0.46822872 0.49021735]\n",
      "  [0.42264791 0.43667569 0.44598124 0.42799513 0.44098124]\n",
      "  [0.39015783 0.41132846 0.40285624 0.40375902 0.39688402]]\n",
      "\n",
      " [[0.78249008 0.7872123  0.78125902 0.75420094 0.70496483]\n",
      "  [0.72042569 0.70350649 0.72420094 0.72756854 0.69654221]\n",
      "  [0.60993957 0.61334235 0.58612013 0.58445346 0.62334235]\n",
      "  [0.47910624 0.4581241  0.48445346 0.49612013 0.50056457]\n",
      "  [0.41104076 0.41931457 0.40723124 0.39618957 0.41431457]]\n",
      "\n",
      " [[0.88582341 0.88769841 0.87492063 0.85183983 0.78867965]\n",
      "  [0.86556457 0.83482594 0.83898268 0.82238546 0.73044102]\n",
      "  [0.64223124 0.63438402 0.63056457 0.63018218 0.6584118 ]\n",
      "  [0.56521735 0.52799513 0.50223124 0.47987013 0.50000902]\n",
      "  [0.40847132 0.41000902 0.41159632 0.42608496 0.4065368 ]]\n",
      "\n",
      " [[0.96916667 0.95242063 0.92947872 0.87090188 0.85678571]\n",
      "  [0.87423521 0.85454816 0.88638799 0.83016324 0.75659632]\n",
      "  [0.62776154 0.6594688  0.67951299 0.63919102 0.63558983]\n",
      "  [0.51458243 0.47132846 0.48215188 0.49632846 0.50132846]\n",
      "  [0.40632846 0.41069354 0.42180465 0.39791576 0.44405213]]\n",
      "\n",
      " [[0.995      0.98131944 0.94645833 0.89796627 0.86078824]\n",
      "  [0.86531205 0.89093705 0.87894841 0.85742965 0.80889791]\n",
      "  [0.66928932 0.65813402 0.62223124 0.64500902 0.66757846]\n",
      "  [0.52396735 0.49908099 0.49556457 0.48167569 0.49879329]\n",
      "  [0.41791576 0.4052868  0.42236021 0.4165368  0.42433983]]\n",
      "\n",
      " [[1.         1.         0.965      0.89671627 0.87518849]\n",
      "  [0.87850649 0.8563438  0.88302038 0.82914051 0.80722132]\n",
      "  [0.64917569 0.63681457 0.64851551 0.62268218 0.65764791]\n",
      "  [0.51521735 0.54241432 0.47855069 0.4920671  0.49000902]\n",
      "  [0.42799513 0.40688402 0.41987013 0.3996618  0.42542569]]\n",
      "\n",
      " [[1.         1.         0.94741071 0.91970238 0.88421627]\n",
      "  [0.86521735 0.85599657 0.88850649 0.83694354 0.80869499]\n",
      "  [0.68378427 0.64292569 0.6763438  0.70570346 0.67560877]\n",
      "  [0.55112013 0.52945346 0.52612013 0.48243957 0.49889791]\n",
      "  [0.43410624 0.41188402 0.40746483 0.4177868  0.43040584]]\n",
      "\n",
      " [[1.         0.98875    0.97859127 0.89768849 0.87985119]\n",
      "  [0.89292569 0.8684623  0.87690927 0.84829816 0.80930465]\n",
      "  [0.65334235 0.60980069 0.65570346 0.6943741  0.62720599]\n",
      "  [0.48910624 0.48715188 0.51408099 0.49632846 0.47945346]\n",
      "  [0.42299513 0.40875902 0.41632846 0.41748377 0.41040043]]\n",
      "\n",
      " [[0.99375    0.9875     0.96916667 0.93933983 0.84992965]\n",
      "  [0.89155213 0.8710561  0.8550496  0.85099657 0.80268218]\n",
      "  [0.65334235 0.66301046 0.66227543 0.69241432 0.63283099]\n",
      "  [0.51215188 0.52889791 0.50264791 0.50743957 0.48487013]\n",
      "  [0.42223124 0.40756854 0.43632846 0.39785624 0.42855069]]\n",
      "\n",
      " [[1.         1.         0.97034722 0.93423611 0.87791667]\n",
      "  [0.86407738 0.87065927 0.88257846 0.85714196 0.81583243]\n",
      "  [0.65093705 0.66986021 0.67854076 0.66505321 0.67396735]\n",
      "  [0.50521735 0.49079816 0.5077868  0.51604076 0.53181457]\n",
      "  [0.41118957 0.44188402 0.41320346 0.42180465 0.41521735]]\n",
      "\n",
      " [[1.         0.99375    0.97131944 0.91370491 0.8744246 ]\n",
      "  [0.87855069 0.87746483 0.87177038 0.85266324 0.78507846]\n",
      "  [0.63980069 0.65473124 0.65671988 0.6314926  0.65255321]\n",
      "  [0.48209235 0.49157107 0.50003427 0.50334235 0.52556457]\n",
      "  [0.41402688 0.4146618  0.4065368  0.39944354 0.41709235]]\n",
      "\n",
      " [[1.         1.         0.97381944 0.90454816 0.88268218]\n",
      "  [0.87527688 0.88138889 0.89218705 0.8487491  0.77909632]\n",
      "  [0.6608676  0.63305465 0.64452291 0.64688402 0.66330718]\n",
      "  [0.47056457 0.50881854 0.46521735 0.47857594 0.51132846]\n",
      "  [0.42577291 0.4146618  0.39285624 0.4046618  0.40598124]]\n",
      "\n",
      " [[1.         0.98875    0.95387897 0.91724657 0.8677426 ]\n",
      "  [0.89960768 0.86719246 0.88290675 0.83988546 0.80145743]\n",
      "  [0.66250902 0.67084235 0.62000902 0.66048521 0.68621483]\n",
      "  [0.52834235 0.51188402 0.48799513 0.48875902 0.48665043]\n",
      "  [0.40243957 0.4196618  0.41243957 0.42051046 0.41347132]]]\n"
     ]
    }
   ],
   "source": [
    "res = rf.cv_results_['mean_test_score'].reshape(14,5,5)\n",
    "print(res)"
   ]
  },
  {
   "cell_type": "markdown",
   "metadata": {},
   "source": [
    "Let's extract the parameter combinations which gave us maximal cross-validation accuracy."
   ]
  },
  {
   "cell_type": "code",
   "execution_count": 87,
   "metadata": {},
   "outputs": [
    {
     "name": "stdout",
     "output_type": "stream",
     "text": [
      "Depth:\n",
      "\n",
      "[7, 7, 8, 8, 9, 11, 11, 12, 13, 13, 14]\n",
      "\n",
      "\n",
      "Leaf:\n",
      "\n",
      "[1, 1, 1, 1, 1, 1, 1, 1, 1, 1, 1]\n",
      "\n",
      "\n",
      "Split:\n",
      "\n",
      "[2, 3, 2, 3, 2, 2, 3, 2, 2, 3, 2]\n",
      "\n",
      "\n"
     ]
    }
   ],
   "source": [
    "idx = rf.cv_results_['mean_test_score'] == 1\n",
    "depth = []\n",
    "leaf = []\n",
    "split = []\n",
    "for i,val in enumerate(idx):\n",
    "    if val:\n",
    "        depth.append(rf.cv_results_['param_max_depth'][i])\n",
    "        leaf.append(rf.cv_results_['param_min_samples_leaf'][i])\n",
    "        split.append(rf.cv_results_['param_min_samples_split'][i])\n",
    "print(\"Depth:\\n\")\n",
    "print(depth)\n",
    "print('\\n')\n",
    "print(\"Leaf:\\n\")\n",
    "print(leaf)\n",
    "print('\\n')\n",
    "print(\"Split:\\n\")\n",
    "print(split)\n",
    "print('\\n')"
   ]
  },
  {
   "cell_type": "markdown",
   "metadata": {},
   "source": [
    "From these values, we can tell that depths above 7, samples/leaf of 1, and minimum number of samples required to split of 2 or 3 provides optimal cross-validation performance. With this in mind, we can construct our final model and fit it to the training data."
   ]
  },
  {
   "cell_type": "code",
   "execution_count": 93,
   "metadata": {},
   "outputs": [
    {
     "data": {
      "text/plain": [
       "1.0"
      ]
     },
     "execution_count": 93,
     "metadata": {},
     "output_type": "execute_result"
    }
   ],
   "source": [
    "forest_classifier = RandomForestClassifier(max_depth=11, min_samples_leaf = 1, min_samples_split=2)\n",
    "forest_classifier.fit(X_ewa_subset, Y)\n",
    "accuracy_score(forest_classifier.predict(X_ewa_subset), Y)"
   ]
  },
  {
   "cell_type": "markdown",
   "metadata": {},
   "source": [
    "With our final model architecture selected and trained, we'll now re-run all the relevant pieces of code, i.e. importing libraries and initial data, subsetting, and model training. We'll also have to convert the training data to an exponentially-weighted average before using our fitted model to predict the labels. We'll use the time module to time the total runtime of the code."
   ]
  },
  {
   "cell_type": "code",
   "execution_count": 104,
   "metadata": {},
   "outputs": [
    {
     "name": "stdout",
     "output_type": "stream",
     "text": [
      "Once deleted, variables cannot be recovered. Proceed (y/[n])? y\n",
      "Total runtime:  0:00:02.739975\n"
     ]
    }
   ],
   "source": [
    "%reset\n",
    "import matplotlib.pyplot as plt\n",
    "import numpy as np\n",
    "import pandas as pd\n",
    "from datetime import datetime\n",
    "from sklearn.model_selection import cross_val_score, GridSearchCV\n",
    "from sklearn.linear_model import LogisticRegression\n",
    "from sklearn.ensemble import RandomForestClassifier\n",
    "from sklearn.metrics import accuracy_score, balanced_accuracy_score\n",
    "\n",
    "tic = datetime.now()\n",
    "train_X = pd.read_csv('train_time_series.csv')\n",
    "train_X = train_X.iloc[:, [1, 4, 5, 6]]\n",
    "train_Y = pd.read_csv('train_labels.csv')\n",
    "train_Y = train_Y.loc[:, ['timestamp', 'label']]\n",
    "test_X = pd.read_csv('test_time_series.csv')\n",
    "Y = train_Y.label.values\n",
    "X_ewa = []\n",
    "ewa = np.array([0, 0, 0])\n",
    "beta = 0.9\n",
    "for i in range(len(train_X)):\n",
    "    ewa = beta * ewa + (1-beta) * train_X.iloc[i, 1:]\n",
    "    X_ewa.append(ewa)\n",
    "X_ewa = np.array(X_ewa)\n",
    "X_ewa_subset = X_ewa[[train_X.timestamp[i] in train_Y.timestamp.values for i in range(len(train_X.timestamp))], :]\n",
    "\n",
    "forest_classifier = RandomForestClassifier(max_depth=11, min_samples_leaf = 1, min_samples_split=2)\n",
    "forest_classifier.fit(X_ewa_subset, Y)\n",
    "\n",
    "test_X = test_X.iloc[:, -3:]\n",
    "X_ewa_test = []\n",
    "ewa = np.array([0, 0, 0])\n",
    "for i in range(len(test_X)):\n",
    "    ewa = beta * ewa + (1-beta) * test_X.iloc[i, :]\n",
    "    X_ewa_test.append(ewa)\n",
    "X_ewa_test = np.array(X_ewa_test)\n",
    "predictions = forest_classifier.predict(X_ewa_test)\n",
    "toc = datetime.now()\n",
    "\n",
    "print(\"Total runtime: \", toc-tic)"
   ]
  },
  {
   "cell_type": "markdown",
   "metadata": {},
   "source": [
    "Ultimately, our code runs in 2.7 seconds. Given that we don't have the true labels for our testing set, it is difficult to quantify our final model performance. Even so, use of 10-fold cross-validation provides evidence that the model should perform well on the testing data. Certain improvements could still potentially be made to reduce total runtime. For example, using the exponentially weighted average did not appear to significantly improve model performance beyond data included in the instantaneous triaxial accelerations. Therefore, to reduce needed computation and data modification, it may not be necessary to use this methodology."
   ]
  },
  {
   "cell_type": "markdown",
   "metadata": {},
   "source": [
    "As a last remark, lets examine the distribution of our predictions and compare that to the input dataset. "
   ]
  },
  {
   "cell_type": "code",
   "execution_count": 109,
   "metadata": {},
   "outputs": [
    {
     "name": "stdout",
     "output_type": "stream",
     "text": [
      "153\n",
      "666\n",
      "287\n",
      "144\n"
     ]
    }
   ],
   "source": [
    "print(sum(predictions == 1))\n",
    "print(sum(predictions == 2))\n",
    "print(sum(predictions == 3))\n",
    "print(sum(predictions == 4))"
   ]
  },
  {
   "cell_type": "code",
   "execution_count": 110,
   "metadata": {},
   "outputs": [
    {
     "name": "stdout",
     "output_type": "stream",
     "text": [
      "5.666666666666667\n",
      "3.1267605633802815\n",
      "3.2613636363636362\n",
      "3.0638297872340425\n"
     ]
    }
   ],
   "source": [
    "print(sum(predictions == 1)/sum(Y==1))\n",
    "print(sum(predictions == 2)/sum(Y==2))\n",
    "print(sum(predictions == 3)/sum(Y==3))\n",
    "print(sum(predictions == 4)/sum(Y==4))"
   ]
  },
  {
   "cell_type": "code",
   "execution_count": 113,
   "metadata": {},
   "outputs": [
    {
     "name": "stdout",
     "output_type": "stream",
     "text": [
      "0.1224\n",
      "0.5328\n",
      "0.2296\n",
      "0.1152\n"
     ]
    }
   ],
   "source": [
    "print(sum(predictions == 1)/len(predictions))\n",
    "print(sum(predictions == 2)/len(predictions))\n",
    "print(sum(predictions == 3)/len(predictions))\n",
    "print(sum(predictions == 4)/len(predictions))"
   ]
  },
  {
   "cell_type": "code",
   "execution_count": 114,
   "metadata": {},
   "outputs": [
    {
     "name": "stdout",
     "output_type": "stream",
     "text": [
      "0.072\n",
      "0.568\n",
      "0.23466666666666666\n",
      "0.12533333333333332\n"
     ]
    }
   ],
   "source": [
    "print(sum(Y == 1)/len(Y))\n",
    "print(sum(Y == 2)/len(Y))\n",
    "print(sum(Y == 3)/len(Y))\n",
    "print(sum(Y == 4)/len(Y))"
   ]
  },
  {
   "cell_type": "markdown",
   "metadata": {},
   "source": [
    "Given this qualitative similarity, it certainly seems possible that our training and testing data was drawn from the same distribution, suggesting that our model accuracy may be high as expected."
   ]
  },
  {
   "cell_type": "code",
   "execution_count": null,
   "metadata": {},
   "outputs": [],
   "source": []
  }
 ],
 "metadata": {
  "kernelspec": {
   "display_name": "Python 3",
   "language": "python",
   "name": "python3"
  },
  "language_info": {
   "codemirror_mode": {
    "name": "ipython",
    "version": 3
   },
   "file_extension": ".py",
   "mimetype": "text/x-python",
   "name": "python",
   "nbconvert_exporter": "python",
   "pygments_lexer": "ipython3",
   "version": "3.6.5"
  }
 },
 "nbformat": 4,
 "nbformat_minor": 2
}
