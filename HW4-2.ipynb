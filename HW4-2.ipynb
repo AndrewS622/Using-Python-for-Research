{
 "cells": [
  {
   "cell_type": "markdown",
   "metadata": {},
   "source": [
    "# Using Python for Research Homework: Week 4, Case Study 2\n",
    "\n",
    "In this case study, we will continue taking a look at patterns of flight for each of the three birds in our dataset."
   ]
  },
  {
   "cell_type": "code",
   "execution_count": 41,
   "metadata": {},
   "outputs": [
    {
     "data": {
      "text/html": [
       "<div>\n",
       "<style scoped>\n",
       "    .dataframe tbody tr th:only-of-type {\n",
       "        vertical-align: middle;\n",
       "    }\n",
       "\n",
       "    .dataframe tbody tr th {\n",
       "        vertical-align: top;\n",
       "    }\n",
       "\n",
       "    .dataframe thead th {\n",
       "        text-align: right;\n",
       "    }\n",
       "</style>\n",
       "<table border=\"1\" class=\"dataframe\">\n",
       "  <thead>\n",
       "    <tr style=\"text-align: right;\">\n",
       "      <th></th>\n",
       "      <th>altitude</th>\n",
       "      <th>date_time</th>\n",
       "      <th>device_info_serial</th>\n",
       "      <th>direction</th>\n",
       "      <th>latitude</th>\n",
       "      <th>longitude</th>\n",
       "      <th>speed_2d</th>\n",
       "      <th>bird_name</th>\n",
       "    </tr>\n",
       "  </thead>\n",
       "  <tbody>\n",
       "    <tr>\n",
       "      <th>0</th>\n",
       "      <td>71</td>\n",
       "      <td>2013-08-15 00:18:08+00</td>\n",
       "      <td>851</td>\n",
       "      <td>-150.469753</td>\n",
       "      <td>49.419860</td>\n",
       "      <td>2.120733</td>\n",
       "      <td>0.150000</td>\n",
       "      <td>Eric</td>\n",
       "    </tr>\n",
       "    <tr>\n",
       "      <th>1</th>\n",
       "      <td>68</td>\n",
       "      <td>2013-08-15 00:48:07+00</td>\n",
       "      <td>851</td>\n",
       "      <td>-136.151141</td>\n",
       "      <td>49.419880</td>\n",
       "      <td>2.120746</td>\n",
       "      <td>2.438360</td>\n",
       "      <td>Eric</td>\n",
       "    </tr>\n",
       "    <tr>\n",
       "      <th>2</th>\n",
       "      <td>68</td>\n",
       "      <td>2013-08-15 01:17:58+00</td>\n",
       "      <td>851</td>\n",
       "      <td>160.797477</td>\n",
       "      <td>49.420310</td>\n",
       "      <td>2.120885</td>\n",
       "      <td>0.596657</td>\n",
       "      <td>Eric</td>\n",
       "    </tr>\n",
       "    <tr>\n",
       "      <th>3</th>\n",
       "      <td>73</td>\n",
       "      <td>2013-08-15 01:47:51+00</td>\n",
       "      <td>851</td>\n",
       "      <td>32.769360</td>\n",
       "      <td>49.420359</td>\n",
       "      <td>2.120859</td>\n",
       "      <td>0.310161</td>\n",
       "      <td>Eric</td>\n",
       "    </tr>\n",
       "    <tr>\n",
       "      <th>4</th>\n",
       "      <td>69</td>\n",
       "      <td>2013-08-15 02:17:42+00</td>\n",
       "      <td>851</td>\n",
       "      <td>45.191230</td>\n",
       "      <td>49.420331</td>\n",
       "      <td>2.120887</td>\n",
       "      <td>0.193132</td>\n",
       "      <td>Eric</td>\n",
       "    </tr>\n",
       "  </tbody>\n",
       "</table>\n",
       "</div>"
      ],
      "text/plain": [
       "   altitude               date_time  device_info_serial   direction  \\\n",
       "0        71  2013-08-15 00:18:08+00                 851 -150.469753   \n",
       "1        68  2013-08-15 00:48:07+00                 851 -136.151141   \n",
       "2        68  2013-08-15 01:17:58+00                 851  160.797477   \n",
       "3        73  2013-08-15 01:47:51+00                 851   32.769360   \n",
       "4        69  2013-08-15 02:17:42+00                 851   45.191230   \n",
       "\n",
       "    latitude  longitude  speed_2d bird_name  \n",
       "0  49.419860   2.120733  0.150000      Eric  \n",
       "1  49.419880   2.120746  2.438360      Eric  \n",
       "2  49.420310   2.120885  0.596657      Eric  \n",
       "3  49.420359   2.120859  0.310161      Eric  \n",
       "4  49.420331   2.120887  0.193132      Eric  "
      ]
     },
     "execution_count": 41,
     "metadata": {},
     "output_type": "execute_result"
    }
   ],
   "source": [
    "# DO NOT EDIT THIS CODE\n",
    "import pandas as pd\n",
    "import numpy as np\n",
    "birddata = pd.read_csv(\"https://courses.edx.org/asset-v1:HarvardX+PH526x+2T2019+type@asset+block@bird_tracking.csv\", index_col=0)\n",
    "birddata.head()"
   ]
  },
  {
   "cell_type": "markdown",
   "metadata": {},
   "source": [
    "### Exercise 1\n",
    "\n",
    "In this case study, we will continue taking a look at patterns of flight for each of the three birds in our dataset. We will group the flight patterns by bird and date, and plot the mean altitude for these groupings.\n",
    "\n",
    "`pandas` makes it easy to perform basic operations on groups within a dataframe without needing to loop through each value in the dataframe. In this exercise, we will group the dataframe by `birdname` and then find the average `speed_2d` for each bird.\n",
    "\n",
    "#### Instructions \n",
    "- Fill in the code to find the mean altitudes of each bird using the pre-loaded `birddata` dataframe. "
   ]
  },
  {
   "cell_type": "code",
   "execution_count": 42,
   "metadata": {},
   "outputs": [
    {
     "name": "stdout",
     "output_type": "stream",
     "text": [
      "bird_name\n",
      "Eric     2.300545\n",
      "Nico     2.908726\n",
      "Sanne    2.450434\n",
      "Name: speed_2d, dtype: float64\n",
      "bird_name\n",
      "Eric     60.249406\n",
      "Nico     67.900478\n",
      "Sanne    29.159922\n",
      "Name: altitude, dtype: float64\n"
     ]
    }
   ],
   "source": [
    "# First, use `groupby()` to group the data by \"bird_name\".\n",
    "grouped_birds = birddata.groupby(by = \"bird_name\")\n",
    "\n",
    "# Now calculate the mean of `speed_2d` using the `mean()` function.\n",
    "mean_speeds = grouped_birds.speed_2d.mean()\n",
    "\n",
    "# Find the mean `altitude` for each bird.\n",
    "mean_altitudes = grouped_birds.altitude.mean()\n",
    "\n",
    "print(mean_speeds)\n",
    "print(mean_altitudes)"
   ]
  },
  {
   "cell_type": "markdown",
   "metadata": {},
   "source": [
    "### Exercise 2\n",
    "\n",
    "In this exercise, we will group the flight times by date and calculate the mean altitude within that day.\n",
    "\n",
    "#### Instructions \n",
    "- Convert `birddata.date_time` to the `pd.datetime` format, and store as `birddata[\"date\"]`.\n",
    "- Fill in the code to find the mean altitudes for each day."
   ]
  },
  {
   "cell_type": "code",
   "execution_count": 43,
   "metadata": {},
   "outputs": [],
   "source": [
    "datetimes = birddata.date_time"
   ]
  },
  {
   "cell_type": "code",
   "execution_count": 47,
   "metadata": {
    "scrolled": true
   },
   "outputs": [
    {
     "name": "stdout",
     "output_type": "stream",
     "text": [
      "date\n",
      "2013-08-15    134.092000\n",
      "2013-08-16    134.839506\n",
      "2013-08-17    147.439024\n",
      "2013-08-18    129.608163\n",
      "2013-08-19    180.174797\n",
      "                 ...    \n",
      "2014-04-26     15.118012\n",
      "2014-04-27     23.897297\n",
      "2014-04-28     37.716867\n",
      "2014-04-29     19.244792\n",
      "2014-04-30     13.954545\n",
      "Name: altitude, Length: 259, dtype: float64\n",
      "75.64609053497942\n"
     ]
    }
   ],
   "source": [
    "import datetime\n",
    "# Convert birddata.date_time to the `pd.datetime` format.\n",
    "birddata.date_time = [datetime.datetime.strptime(dt[:-3], \"%Y-%m-%d %H:%M:%S\") for dt in datetimes]\n",
    "\n",
    "# Create a new column of day of observation\n",
    "birddata[\"date\"] = [datetime.datetime.strptime(dt[:10], \"%Y-%m-%d\") for dt in datetimes]\n",
    "\n",
    "# Use `groupby()` to group the data by date.\n",
    "grouped_bydates = birddata.groupby(by = \"date\")\n",
    "\n",
    "# Find the mean `altitude` for each date.\n",
    "mean_altitudes_perday = grouped_bydates.altitude.mean()\n",
    "print(mean_altitudes_perday)\n",
    "print(mean_altitudes_perday[\"2013-09-12\"])"
   ]
  },
  {
   "cell_type": "markdown",
   "metadata": {},
   "source": [
    "### Exercise 3\n",
    "\n",
    "In this exercise, we will group the flight times by both bird and date, and calculate the mean altitude for each.\n",
    "\n",
    "#### Instructions \n",
    "- `birddata` already contains the `date` column. To find the average speed for each bird and day, create a new grouped dataframe called `grouped_birdday` that groups the data by both `bird_name` and date."
   ]
  },
  {
   "cell_type": "code",
   "execution_count": 50,
   "metadata": {},
   "outputs": [
    {
     "name": "stdout",
     "output_type": "stream",
     "text": [
      "date        bird_name\n",
      "2013-08-15  Eric          74.988095\n",
      "            Nico         222.421687\n",
      "            Sanne        105.578313\n",
      "2013-08-16  Eric         127.773810\n",
      "            Nico         181.740741\n",
      "                            ...    \n",
      "2014-04-29  Nico           5.516129\n",
      "            Sanne         30.530120\n",
      "2014-04-30  Eric          38.791667\n",
      "            Nico           5.000000\n",
      "            Sanne          4.361111\n",
      "Name: altitude, Length: 770, dtype: float64\n",
      "121.35365853658537\n"
     ]
    }
   ],
   "source": [
    "# Use `groupby()` to group the data by bird and date.\n",
    "grouped_birdday = birddata.groupby(by = [\"date\", \"bird_name\"])\n",
    "\n",
    "# Find the mean `altitude` for each bird and date.\n",
    "mean_altitudes_perday = grouped_birdday.altitude.mean()\n",
    "print(mean_altitudes_perday)\n",
    "print(mean_altitudes_perday[\"2013-08-18\"][\"Eric\"])"
   ]
  },
  {
   "cell_type": "markdown",
   "metadata": {},
   "source": [
    "### Exercise 4\n",
    "\n",
    "Great! Now find the average speed for each bird and day.\n",
    "\n",
    "#### Instructions \n",
    "\n",
    "- Store these are three `pandas` `Series` objects, one for each bird.\n",
    "- Use the plotting code provided to plot the average speeds for each bird."
   ]
  },
  {
   "cell_type": "code",
   "execution_count": 54,
   "metadata": {},
   "outputs": [
    {
     "data": {
      "text/plain": [
       "2.8324654508684057"
      ]
     },
     "execution_count": 54,
     "metadata": {},
     "output_type": "execute_result"
    },
    {
     "data": {
      "image/png": "[encoded data removed]",
      "text/plain": [
       "<Figure size 432x288 with 1 Axes>"
      ]
     },
     "metadata": {
      "needs_background": "light"
     },
     "output_type": "display_data"
    }
   ],
   "source": [
    "import matplotlib.pyplot as plt\n",
    "\n",
    "eric_daily_speed  = birddata[birddata.bird_name == \"Eric\"].groupby(by = \"date\").speed_2d.mean()\n",
    "sanne_daily_speed = birddata[birddata.bird_name == \"Sanne\"].groupby(by = \"date\").speed_2d.mean()\n",
    "nico_daily_speed  = birddata[birddata.bird_name == \"Nico\"].groupby(by = \"date\").speed_2d.mean()\n",
    "\n",
    "eric_daily_speed.plot(label=\"Eric\")\n",
    "sanne_daily_speed.plot(label=\"Sanne\")\n",
    "nico_daily_speed.plot(label=\"Nico\")\n",
    "plt.legend(loc=\"upper left\")\n",
    "\n",
    "nico_daily_speed[\"2014-04-04\"]"
   ]
  },
  {
   "cell_type": "code",
   "execution_count": null,
   "metadata": {},
   "outputs": [],
   "source": []
  }
 ],
 "metadata": {
  "kernelspec": {
   "display_name": "Python 3",
   "language": "python",
   "name": "python3"
  },
  "language_info": {
   "codemirror_mode": {
    "name": "ipython",
    "version": 3
   },
   "file_extension": ".py",
   "mimetype": "text/x-python",
   "name": "python",
   "nbconvert_exporter": "python",
   "pygments_lexer": "ipython3",
   "version": "3.6.5"
  }
 },
 "nbformat": 4,
 "nbformat_minor": 2
}
